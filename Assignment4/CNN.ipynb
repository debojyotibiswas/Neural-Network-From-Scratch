{
 "cells": [
  {
   "cell_type": "code",
   "execution_count": 1,
   "metadata": {},
   "outputs": [],
   "source": [
    "import numpy as np\n",
    "import matplotlib.pyplot as plt\n",
    "import tensorflow as tf\n",
    "from tensorflow.keras import datasets"
   ]
  },
  {
   "cell_type": "code",
   "execution_count": 2,
   "metadata": {},
   "outputs": [],
   "source": [
    "(X_train, y_train), (X_test, y_test) = datasets.mnist.load_data()"
   ]
  },
  {
   "cell_type": "code",
   "execution_count": 3,
   "metadata": {},
   "outputs": [
    {
     "data": {
      "text/plain": [
       "(60000, 28, 28)"
      ]
     },
     "execution_count": 3,
     "metadata": {},
     "output_type": "execute_result"
    }
   ],
   "source": [
    "X_train.shape"
   ]
  },
  {
   "cell_type": "code",
   "execution_count": 4,
   "metadata": {},
   "outputs": [
    {
     "data": {
      "text/plain": [
       "<matplotlib.image.AxesImage at 0x1ecc002e308>"
      ]
     },
     "execution_count": 4,
     "metadata": {},
     "output_type": "execute_result"
    }
   ],
   "source": [
    "#plt.figure(figsize=(15,2))\n",
    "plt.imshow(X_train[0])"
   ]
  },
  {
   "cell_type": "code",
   "execution_count": 5,
   "metadata": {},
   "outputs": [],
   "source": [
    "class Conv_op:\n",
    "    \n",
    "    def __init__(self, num_filters, filter_size):\n",
    "        self.num_filters = num_filters\n",
    "        self.filter_size = filter_size\n",
    "        self.conv_filter = np.random.randn(num_filters, filter_size, filter_size) / (filter_size * filter_size)\n",
    "        \n",
    "    def image_region(self, image):\n",
    "        height, width = image.shape\n",
    "        self.image = image\n",
    "        for j in range(height - self.filter_size + 1):\n",
    "            for k in range(width - self.filter_size + 1):\n",
    "                image_patch = image[j : (j + self.filter_size), k : (k + self.filter_size)]\n",
    "                yield image_patch, j, k\n",
    "    def forward_prop(self,image):\n",
    "        height, width = image.shape\n",
    "        conv_out = np.zeros((height - self.filter_size + 1, width - self.filter_size + 1, self.num_filters))\n",
    "        for image_patch, i, j in self.image_region(image):\n",
    "            conv_out[i, j] = np.sum(image_patch * self.conv_filter, axis = (1,2))\n",
    "        return conv_out\n",
    "    def back_prop(self, dL_dout, learning_rate):\n",
    "        dL_dF_params = np.zeros(self.conv_filter.shape)\n",
    "        for image_patch, i, j in self.image_region(self.image):\n",
    "            for k in range(self.num_filters):\n",
    "                dL_dF_params[k] += image_patch*dL_dout[i,j,k]\n",
    "        self.conv_filter -= learning_rate * dL_dF_params\n",
    "        return dL_dF_params"
   ]
  },
  {
   "cell_type": "code",
   "execution_count": 6,
   "metadata": {},
   "outputs": [],
   "source": [
    "class Max_Pool:\n",
    "    \n",
    "    def __init__(self, filter_size):\n",
    "        self.filter_size = filter_size\n",
    "        \n",
    "    def image_region(self, image):\n",
    "        new_height = image.shape[0] // self.filter_size\n",
    "        new_width = image.shape[1] // self.filter_size\n",
    "        self.image = image\n",
    "        \n",
    "        for i in range(new_height):\n",
    "            for j in range(new_width):\n",
    "                image_patch = image[(i*self.filter_size): (i*self.filter_size + self.filter_size), (j*self.filter_size): (j*self.filter_size + self.filter_size)]\n",
    "                yield image_patch, i, j\n",
    "    \n",
    "    def forward_prop(self, image):\n",
    "        height, width, num_filters = image.shape\n",
    "        output = np.zeros((height // self.filter_size, width // self.filter_size, num_filters))\n",
    "        \n",
    "        for image_patch, i, j in self.image_region(image):\n",
    "            output[i,j] = np.amax(image_patch, axis = (0, 1))\n",
    "            \n",
    "        return output\n",
    "    def back_prop(self, dL_dout):\n",
    "        dL_dmax_pool = np.zeros(self.image.shape)\n",
    "        for image_patch, i, j in self.image_region(self.image):\n",
    "            height, width, num_filters = image_patch.shape\n",
    "            maximum_val = np.amax(image_patch, axis = (0,1))\n",
    "            \n",
    "            for i1 in range(height):\n",
    "                for j1 in range(width):\n",
    "                    for k1 in range(num_filters):\n",
    "                        if image_patch[i1,j1,k1] == maximum_val[k1]:\n",
    "                            dL_dmax_pool[i*self.filter_size + i1, j*self.filter_size + j1, k1] == dL_dout[i,j,k1]\n",
    "            return dL_dmax_pool"
   ]
  },
  {
   "cell_type": "code",
   "execution_count": 7,
   "metadata": {},
   "outputs": [],
   "source": [
    "class Feed_forward:\n",
    "    def __init__(self, input_node, softmax_node):\n",
    "        self.weight = np.random.randn(input_node,softmax_node) / input_node\n",
    "        self.bias = np.zeros(softmax_node)\n",
    "    def forward_prop(self, image):\n",
    "        self.orig_im_shape = image.shape\n",
    "        image_modified = image.flatten()\n",
    "        self.modified_input = image_modified\n",
    "        output_val = np.dot(image_modified, self.weight) + self.bias\n",
    "        self.out = output_val\n",
    "        exp_out = np.exp(output_val)\n",
    "        return exp_out / np.sum(exp_out, axis = 0)\n",
    "    \n",
    "    def back_prop(self,dL_dout,learning_rate):\n",
    "        for i,grad in enumerate(dL_dout):\n",
    "            if grad == 0:\n",
    "                continue\n",
    "            transformation_eq = np.exp(self.out)\n",
    "            s_total = np.sum(transformation_eq)\n",
    "            \n",
    "            dy_dz = -transformation_eq[i]*transformation_eq / (s_total ** 2)\n",
    "            dy_dz[i] = transformation_eq[i] * (s_total - transformation_eq[i]) / (s_total ** 2)\n",
    "            \n",
    "            dz_dw = self.modified_input\n",
    "            dz_db = 1\n",
    "            dz_d_inp = self.weight\n",
    "            \n",
    "            dL_dz = grad * dy_dz\n",
    "            \n",
    "            dL_dw = dz_dw[np.newaxis].T @ dL_dz[np.newaxis]\n",
    "            dL_db = dL_dz * dz_db\n",
    "            dL_d_inp = dz_d_inp @ dL_dz\n",
    "        self.weight -= learning_rate * dL_dw\n",
    "        self.bias -= learning_rate * dL_db\n",
    "        \n",
    "        return dL_d_inp.reshape(self.orig_im_shape)"
   ]
  },
  {
   "cell_type": "code",
   "execution_count": 8,
   "metadata": {},
   "outputs": [
    {
     "name": "stdout",
     "output_type": "stream",
     "text": [
      "Epoch 1 ---->\n",
      "1 steps out of 100 steps: Average Loss 0.000 and Accuracy: 0%\n",
      "101 steps out of 100 steps: Average Loss 2.222 and Accuracy: 22%\n",
      "201 steps out of 100 steps: Average Loss 1.958 and Accuracy: 49%\n",
      "Epoch 2 ---->\n",
      "1 steps out of 100 steps: Average Loss 0.000 and Accuracy: 0%\n",
      "101 steps out of 100 steps: Average Loss 1.551 and Accuracy: 63%\n",
      "201 steps out of 100 steps: Average Loss 1.433 and Accuracy: 72%\n",
      "Epoch 3 ---->\n",
      "1 steps out of 100 steps: Average Loss 0.000 and Accuracy: 0%\n",
      "101 steps out of 100 steps: Average Loss 1.181 and Accuracy: 80%\n",
      "201 steps out of 100 steps: Average Loss 1.168 and Accuracy: 80%\n",
      "Epoch 4 ---->\n",
      "1 steps out of 100 steps: Average Loss 0.000 and Accuracy: 0%\n",
      "101 steps out of 100 steps: Average Loss 0.979 and Accuracy: 84%\n",
      "201 steps out of 100 steps: Average Loss 1.005 and Accuracy: 80%\n"
     ]
    }
   ],
   "source": [
    "train_images = X_train[:300]\n",
    "train_labels = y_train[:300]\n",
    "test_images = X_test[:700]\n",
    "test_labels = y_test[:700]\n",
    "\n",
    "conv = Conv_op(8,3)\n",
    "pool = Max_Pool(2)\n",
    "ff = Feed_forward(13 * 13 * 8, 10)\n",
    "\n",
    "def cnn_forward_prop(image, label):\n",
    "    out_p = conv.forward_prop((image / 255) - 0.5)\n",
    "    #print(out_p.shape)\n",
    "    out_p = pool.forward_prop(out_p)\n",
    "    out_p = ff.forward_prop(out_p)\n",
    "    \n",
    "    cross_ent_loss = -np.log(out_p[label])\n",
    "    accuracy_eval = 1 if np.argmax(out_p) == label else 0\n",
    "    \n",
    "    return out_p, cross_ent_loss, accuracy_eval\n",
    "\n",
    "def training_cnn(image, label, learn_rate = 0.005):\n",
    "    \n",
    "    out, loss, acc = cnn_forward_prop(image,label)\n",
    "    \n",
    "    gradient = np.zeros(10)\n",
    "    gradient[label] = -1 / out[label]\n",
    "    \n",
    "    grad_back = ff.back_prop(gradient, learn_rate)\n",
    "    grad_back = pool.back_prop(grad_back)\n",
    "    grad_back = conv.back_prop(grad_back, learn_rate)\n",
    "    \n",
    "    return loss, acc\n",
    "\n",
    "for epoch1 in range(4):\n",
    "    \n",
    "    print('Epoch %d ---->' % (epoch1 + 1))\n",
    "    \n",
    "    shuffle_data = np.random.permutation(len(train_images))\n",
    "    train_images = train_images[shuffle_data]\n",
    "    train_labels = train_labels[shuffle_data]\n",
    "    \n",
    "    loss = 0\n",
    "    num_correct = 0\n",
    "    for i, (im, label) in enumerate(zip(train_images, train_labels)):\n",
    "        \n",
    "        if i % 100 == 0:\n",
    "            print('%d steps out of 100 steps: Average Loss %.3f and Accuracy: %d%%' %(i + 1, loss / 100, num_correct))\n",
    "            loss = 0\n",
    "            num_correct = 0\n",
    "            \n",
    "        l1, accu = training_cnn(im, label)\n",
    "        loss += l1\n",
    "        num_correct += accu"
   ]
  },
  {
   "cell_type": "code",
   "execution_count": 9,
   "metadata": {},
   "outputs": [
    {
     "name": "stdout",
     "output_type": "stream",
     "text": [
      "**Testing phase\n",
      "Test Loss:  1.244543559853731\n",
      "Test Accuracy 61% \n"
     ]
    }
   ],
   "source": [
    "print('**Testing phase')\n",
    "loss = 0\n",
    "num_correct = 0\n",
    "for im, label in zip(test_images, test_labels):\n",
    "    __, l1, accu = cnn_forward_prop(im, label)\n",
    "    loss += l1\n",
    "    num_correct += accu\n",
    "    \n",
    "num_tests = len(test_images)\n",
    "print('Test Loss: ', loss / num_tests)\n",
    "print('Test Accuracy %d%% ' %(num_correct/ num_tests * 100))"
   ]
  },
  {
   "cell_type": "code",
   "execution_count": null,
   "metadata": {},
   "outputs": [],
   "source": []
  }
 ],
 "metadata": {
  "kernelspec": {
   "display_name": "Python 3",
   "language": "python",
   "name": "python3"
  },
  "language_info": {
   "codemirror_mode": {
    "name": "ipython",
    "version": 3
   },
   "file_extension": ".py",
   "mimetype": "text/x-python",
   "name": "python",
   "nbconvert_exporter": "python",
   "pygments_lexer": "ipython3",
   "version": "3.7.6"
  }
 },
 "nbformat": 4,
 "nbformat_minor": 4
}

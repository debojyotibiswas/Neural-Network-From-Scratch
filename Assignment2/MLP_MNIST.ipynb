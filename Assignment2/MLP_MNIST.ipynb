{
 "cells": [
  {
   "cell_type": "code",
   "execution_count": 2,
   "metadata": {},
   "outputs": [],
   "source": [
    "import numpy as np\n",
    "import pandas as pd\n",
    "from matplotlib import pyplot as plt\n",
    "from sklearn.model_selection import KFold\n",
    "\n",
    "data = pd.read_csv('train.csv')"
   ]
  },
  {
   "cell_type": "code",
   "execution_count": 3,
   "metadata": {},
   "outputs": [],
   "source": [
    "data = np.array(data)\n",
    "m, n = data.shape\n",
    "np.random.shuffle(data) "
   ]
  },
  {
   "cell_type": "code",
   "execution_count": 4,
   "metadata": {},
   "outputs": [],
   "source": [
    "X, y = data[:1000,1:], data[:1000,0]"
   ]
  },
  {
   "cell_type": "code",
   "execution_count": 5,
   "metadata": {},
   "outputs": [],
   "source": [
    "X = X / 255."
   ]
  },
  {
   "cell_type": "code",
   "execution_count": 6,
   "metadata": {},
   "outputs": [],
   "source": [
    "size = 0.3\n",
    "test_size = int(size * len(X))\n",
    "X_train, X_test = X[:test_size], X[test_size:]\n",
    "y_train, y_test = y[:test_size], y[test_size:]"
   ]
  },
  {
   "cell_type": "code",
   "execution_count": 9,
   "metadata": {},
   "outputs": [
    {
     "data": {
      "text/plain": [
       "(300, 784)"
      ]
     },
     "execution_count": 9,
     "metadata": {},
     "output_type": "execute_result"
    }
   ],
   "source": [
    "X_train.shape"
   ]
  },
  {
   "cell_type": "code",
   "execution_count": 10,
   "metadata": {},
   "outputs": [
    {
     "data": {
      "text/plain": [
       "(700, 784)"
      ]
     },
     "execution_count": 10,
     "metadata": {},
     "output_type": "execute_result"
    }
   ],
   "source": [
    "X_test.shape"
   ]
  },
  {
   "cell_type": "code",
   "execution_count": 11,
   "metadata": {},
   "outputs": [],
   "source": [
    "X_test = X_test.T"
   ]
  },
  {
   "cell_type": "code",
   "execution_count": 19,
   "metadata": {},
   "outputs": [],
   "source": [
    "class MLP_MNIST:\n",
    "    \n",
    "    def __init__(self,sizes,epoch, alpha = 0.1,eta = 0.1, rho = ):\n",
    "        \n",
    "        self.sizes = sizes\n",
    "        self.epoch = epoch\n",
    "        self.eta = eta\n",
    "        self.error= []\n",
    "        self.alpha = alpha * 10\n",
    "        \n",
    "        self.input_layer = self.sizes[0]\n",
    "        self.hidden_1 = self.sizes[1]\n",
    "        self.hidden_2 = self.sizes[2]\n",
    "        self.hidden_3 = self.sizes[3]\n",
    "        self.output_layer = self.sizes[4]\n",
    "        \n",
    "        self.W1 = np.random.rand(self.hidden_1, self.input_layer) - 0.5\n",
    "        self.b1 = np.random.rand(self.hidden_1, 1) - 0.5\n",
    "        self.W2 = np.random.rand(self.hidden_2, self.hidden_1) - 0.5\n",
    "        self.b2 = np.random.rand(self.hidden_2, 1) - 0.5\n",
    "        self.W3 = np.random.rand(self.hidden_3, self.hidden_2) - 0.5\n",
    "        self.b3 = np.random.rand(self.hidden_3, 1) - 0.5\n",
    "        self.W4 = np.random.rand(self.output_layer, self.hidden_3) - 0.5\n",
    "        self.b4 = np.random.rand(self.output_layer, 1) - 0.5\n",
    "        \n",
    "    def sigmoid(self, x, derivative=False):\n",
    "        if derivative:\n",
    "            return (np.exp(-x))/((np.exp(-x)+1)**2)\n",
    "        return 1/(1 + np.exp(-x))\n",
    "    \n",
    "    def ReLU(self, x, derivative = False):\n",
    "        if derivative:\n",
    "            return (x > 0).astype(int)\n",
    "        return np.maximum(x, 0)\n",
    "    \n",
    "    def forward_prop(self, X):\n",
    "        \n",
    "        self.A0 = X\n",
    "        self.Z1 = np.dot(self.W1, self.A0) + self.b1\n",
    "        self.A1 = self.ReLU(self.Z1)\n",
    "        \n",
    "        self.Z2 = np.dot(self.W2, self.A1) + self.b2\n",
    "        self.A2 = self.ReLU(self.Z2)\n",
    "        \n",
    "        self.Z3 = np.dot(self.W3, self.A2) + self.b3\n",
    "        self.A3 = self.sigmoid(self.Z3)\n",
    "        \n",
    "        self.Z4 = np.dot(self.W4, self.A3) + self.b4\n",
    "        self.A4 = self.sigmoid(self.Z4)\n",
    "        return self.A4\n",
    "    \n",
    "    def one_hot(self,Y):\n",
    "        one_hot_Y = np.zeros((Y.size, 10))\n",
    "        one_hot_Y[np.arange(Y.size), Y] = 1\n",
    "        one_hot_Y = one_hot_Y.T\n",
    "        return one_hot_Y\n",
    "    \n",
    "    def backward_prop(self, y_train, output, start_id, end_id):\n",
    "        \n",
    "        one_hot_y = self.one_hot(y_train)\n",
    "        one_hot_y = one_hot_y[:,start_id:end_id]\n",
    "        \n",
    "        self.dA4 = output - one_hot_y\n",
    "        self.dZ4 = np.multiply(self.sigmoid(self.Z4,derivative=True), self.dA4)\n",
    "        self.dW4 = 1/self.dZ4.shape[1] * np.dot(self.dZ4, self.A3.T)\n",
    "        self.db4 = 1/self.dZ4.shape[1] * np.sum(self.dZ4, axis=1, keepdims=True)\n",
    "        \n",
    "        self.dA3 = np.dot(self.W4.T, self.dZ4)\n",
    "        self.dZ3 = np.multiply(self.sigmoid(self.Z3,derivative=True), self.dA3)\n",
    "        self.dW3 = 1/self.dZ3.shape[1] * np.dot(self.dZ3, self.A2.T)\n",
    "        self.db3 = 1/self.dZ3.shape[1] * np.sum(self.dZ3, axis=1, keepdims=True)\n",
    "        \n",
    "        self.dA2 = np.dot(self.W3.T, self.dZ3)\n",
    "        self.dZ2 = np.multiply(self.ReLU(self.Z2,derivative=True), self.dA2)\n",
    "        self.dW2 = 1/self.dZ2.shape[1] * np.dot(self.dZ2, self.A1.T)\n",
    "        self.db2 = 1/self.dZ2.shape[1] * np.sum(self.dZ2, axis=1, keepdims=True)\n",
    "        \n",
    "        self.dA1 = np.dot(self.W2.T, self.dZ2)\n",
    "        self.dZ1 = np.multiply(self.ReLU(self.Z1,derivative=True), self.dA1)\n",
    "        self.dW1 = 1/self.dZ1.shape[1] * np.dot(self.dZ1, self.A0.T)\n",
    "        self.db1 = 1/self.dZ1.shape[1] * np.sum(self.dZ1, axis=1, keepdims=True)\n",
    "        \n",
    "        self.W4 = self.alpha * self.W4 - self.eta * self.dW4\n",
    "        self.b4 = self.alpha * self.b4 - self.eta * self.db4\n",
    "        self.W3 = self.alpha * self.W3 - self.eta * self.dW3\n",
    "        self.b3 = self.alpha * self.b3 - self.eta * self.db3\n",
    "        self.W2 = self.alpha * self.W2 - self.eta * self.dW2\n",
    "        self.b2 = self.alpha * self.b2 - self.eta * self.db2\n",
    "        self.W1 = self.alpha * self.W1 - self.eta * self.dW1\n",
    "        self.b1 = self.alpha * self.b1 - self.eta * self.db1\n",
    "    \n",
    "    def train(self, X, y, batch_size):\n",
    "        \n",
    "        self.batch_size = batch_size\n",
    "        for iteration in range(self.epoch):\n",
    "            \n",
    "            m = 0\n",
    "            accuracy = 0\n",
    "            kf = KFold(n_splits=10)\n",
    "            for train_index, test_index in kf.split(X, y):\n",
    "                \n",
    "                x_train, x_test = X[train_index,:], X[test_index,:]\n",
    "                y_train, y_test = y[train_index],y[test_index]\n",
    "                \n",
    "                x_train = x_train.T\n",
    "                x_test = x_test.T\n",
    "                self.batch_size = min(self.batch_size, x_train.shape[1])\n",
    "                start_id, end_id = 0, self.batch_size\n",
    "                while end_id <= x_train.shape[1]:\n",
    "\n",
    "                    x = x_train[:,start_id: end_id]\n",
    "                    output = self.forward_prop(x)\n",
    "                    m += 1 / self.batch_size * np.sum(np.argmax(output, 0) != y_train[start_id: end_id])\n",
    "                    self.backward_prop(y_train, output,start_id, end_id)\n",
    "\n",
    "                    start_id = end_id\n",
    "                    end_id = end_id + self.batch_size\n",
    "                \n",
    "                accuracy += self.get_accuracy(x_test, y_test)\n",
    "            \n",
    "            \n",
    "            print('Cross-Val Accuracy at {}th iteration: {}'.format(iteration + 1, accuracy * 10))\n",
    "            self.error.append(m)\n",
    "    \n",
    "    def predict(self,X):\n",
    "        \n",
    "        predictions = []\n",
    "        \n",
    "        output = self.forward_prop(X)\n",
    "        #print(output)\n",
    "        return np.argmax(output, 0)\n",
    "    \n",
    "    def confusion_matrix(self, y, y_pred):\n",
    "        \n",
    "        classes = np.unique(y)\n",
    "        conf_mat = np.zeros((len(classes), len(classes)))\n",
    "        for a, p in zip(y, y_pred):\n",
    "            conf_mat[a][p] += 1\n",
    "        print(conf_mat)\n",
    "    \n",
    "    def error_iteration_curve(self):\n",
    "        \n",
    "        import seaborn as sns\n",
    "        sns.set_style(\"darkgrid\", {\"grid.color\": \".6\", \"grid.linestyle\": \":\"})\n",
    "        fig = plt.figure(figsize=(20,9))\n",
    "        plt.xlabel('Epoch')\n",
    "        plt.ylabel('Error')\n",
    "        plt.plot(self.error,'r--')\n",
    "        plt.show()\n",
    "        \n",
    "    \n",
    "    def get_accuracy(self, X, y):\n",
    "        output = np.argmax(self.forward_prop(X), 0)\n",
    "        return np.sum(output == y) / y.size"
   ]
  },
  {
   "cell_type": "markdown",
   "metadata": {},
   "source": [
    "## Stochastic Learning"
   ]
  },
  {
   "cell_type": "code",
   "execution_count": 20,
   "metadata": {},
   "outputs": [
    {
     "name": "stdout",
     "output_type": "stream",
     "text": [
      "Cross-Val Accuracy at 1th iteration: 52.333333333333336\n",
      "Cross-Val Accuracy at 2th iteration: 82.00000000000001\n",
      "Cross-Val Accuracy at 3th iteration: 91.66666666666669\n",
      "Cross-Val Accuracy at 4th iteration: 93.0\n",
      "Cross-Val Accuracy at 5th iteration: 91.33333333333334\n"
     ]
    }
   ],
   "source": [
    "#stochastic\n",
    "model1 = MLP_MNIST([784, 196, 49, 10, 10], 5)\n",
    "model1.train(X_train, y_train, 1)"
   ]
  },
  {
   "cell_type": "code",
   "execution_count": 21,
   "metadata": {},
   "outputs": [
    {
     "name": "stdout",
     "output_type": "stream",
     "text": [
      "[[27.  0.  0.  0.  0.  0.  0.  0.  0.  0.]\n",
      " [ 0. 37.  0.  0.  0.  0.  0.  0.  0.  0.]\n",
      " [ 0.  0. 40.  0.  0.  0.  0.  0.  0.  0.]\n",
      " [ 0.  0.  0. 35.  0.  0.  0.  0.  0.  0.]\n",
      " [ 0.  0.  0.  0. 23.  0.  0.  0.  0.  0.]\n",
      " [ 0.  0.  1.  2.  0. 19.  0.  1.  0.  0.]\n",
      " [ 0.  0.  0.  0.  0.  0. 30.  0.  0.  0.]\n",
      " [ 0.  0.  0.  0.  0.  1.  0. 26.  0.  0.]\n",
      " [ 0.  0.  0.  1.  0.  0.  0.  0. 25.  0.]\n",
      " [ 0.  0.  0.  0.  0.  0.  0.  2.  0. 30.]]\n"
     ]
    }
   ],
   "source": [
    "y_pred_train_1 = model1.predict(X_train.T)\n",
    "model1.confusion_matrix(y_train, y_pred_train_1)"
   ]
  },
  {
   "cell_type": "code",
   "execution_count": 22,
   "metadata": {},
   "outputs": [
    {
     "name": "stdout",
     "output_type": "stream",
     "text": [
      "[[67.  0.  0.  0.  0.  1.  0.  0.  0.  0.]\n",
      " [ 0. 58.  0.  0.  0.  0.  0.  0.  0.  0.]\n",
      " [ 1.  1. 53.  5.  0.  1.  1.  2.  3.  0.]\n",
      " [ 0.  1.  0. 67.  0. 11.  0.  2.  1.  0.]\n",
      " [ 0.  4.  1.  0. 60.  0.  0.  4.  3. 15.]\n",
      " [ 0.  6.  0. 12.  3. 33.  0.  8.  2.  3.]\n",
      " [ 3.  1.  5.  0.  1.  0. 56.  0.  3.  1.]\n",
      " [ 0.  0.  4.  2.  0.  2.  0. 53.  2. 10.]\n",
      " [ 1.  8.  3.  6.  3.  3.  1.  6. 21.  5.]\n",
      " [ 1.  0.  0.  1.  6.  2.  1. 12.  0. 48.]]\n"
     ]
    }
   ],
   "source": [
    "y_pred_test_1 = model1.predict(X_test)\n",
    "model1.confusion_matrix(y_test, y_pred_test_1)"
   ]
  },
  {
   "cell_type": "code",
   "execution_count": 23,
   "metadata": {},
   "outputs": [
    {
     "data": {
      "image/png": "[encoded data removed]",
      "text/plain": [
       "<Figure size 1440x648 with 1 Axes>"
      ]
     },
     "metadata": {},
     "output_type": "display_data"
    }
   ],
   "source": [
    "model1.error_iteration_curve()"
   ]
  },
  {
   "cell_type": "markdown",
   "metadata": {},
   "source": [
    "## Batch Learning"
   ]
  },
  {
   "cell_type": "code",
   "execution_count": 25,
   "metadata": {},
   "outputs": [
    {
     "name": "stdout",
     "output_type": "stream",
     "text": [
      "Cross-Val Accuracy at 1th iteration: 9.999999999999998\n",
      "Cross-Val Accuracy at 2th iteration: 9.0\n",
      "Cross-Val Accuracy at 3th iteration: 9.333333333333334\n",
      "Cross-Val Accuracy at 4th iteration: 9.666666666666666\n",
      "Cross-Val Accuracy at 5th iteration: 10.666666666666666\n",
      "Cross-Val Accuracy at 6th iteration: 12.0\n",
      "Cross-Val Accuracy at 7th iteration: 13.666666666666664\n",
      "Cross-Val Accuracy at 8th iteration: 13.666666666666664\n",
      "Cross-Val Accuracy at 9th iteration: 12.333333333333334\n",
      "Cross-Val Accuracy at 10th iteration: 13.333333333333332\n",
      "Cross-Val Accuracy at 11th iteration: 15.333333333333334\n",
      "Cross-Val Accuracy at 12th iteration: 16.333333333333336\n",
      "Cross-Val Accuracy at 13th iteration: 16.666666666666668\n",
      "Cross-Val Accuracy at 14th iteration: 16.666666666666668\n",
      "Cross-Val Accuracy at 15th iteration: 17.0\n",
      "Cross-Val Accuracy at 16th iteration: 17.333333333333336\n",
      "Cross-Val Accuracy at 17th iteration: 16.666666666666668\n",
      "Cross-Val Accuracy at 18th iteration: 16.333333333333332\n",
      "Cross-Val Accuracy at 19th iteration: 17.0\n",
      "Cross-Val Accuracy at 20th iteration: 15.999999999999998\n",
      "Cross-Val Accuracy at 21th iteration: 16.333333333333332\n",
      "Cross-Val Accuracy at 22th iteration: 15.999999999999998\n",
      "Cross-Val Accuracy at 23th iteration: 16.0\n",
      "Cross-Val Accuracy at 24th iteration: 16.666666666666668\n",
      "Cross-Val Accuracy at 25th iteration: 17.333333333333336\n",
      "Cross-Val Accuracy at 26th iteration: 17.666666666666668\n",
      "Cross-Val Accuracy at 27th iteration: 18.0\n",
      "Cross-Val Accuracy at 28th iteration: 18.0\n",
      "Cross-Val Accuracy at 29th iteration: 18.333333333333332\n",
      "Cross-Val Accuracy at 30th iteration: 19.0\n",
      "Cross-Val Accuracy at 31th iteration: 19.0\n",
      "Cross-Val Accuracy at 32th iteration: 19.333333333333332\n",
      "Cross-Val Accuracy at 33th iteration: 19.333333333333332\n",
      "Cross-Val Accuracy at 34th iteration: 19.333333333333332\n",
      "Cross-Val Accuracy at 35th iteration: 20.0\n",
      "Cross-Val Accuracy at 36th iteration: 20.333333333333332\n",
      "Cross-Val Accuracy at 37th iteration: 21.0\n",
      "Cross-Val Accuracy at 38th iteration: 21.0\n",
      "Cross-Val Accuracy at 39th iteration: 21.333333333333332\n",
      "Cross-Val Accuracy at 40th iteration: 21.666666666666664\n",
      "Cross-Val Accuracy at 41th iteration: 22.333333333333336\n",
      "Cross-Val Accuracy at 42th iteration: 22.333333333333336\n",
      "Cross-Val Accuracy at 43th iteration: 22.333333333333336\n",
      "Cross-Val Accuracy at 44th iteration: 23.33333333333333\n",
      "Cross-Val Accuracy at 45th iteration: 23.666666666666668\n",
      "Cross-Val Accuracy at 46th iteration: 24.0\n",
      "Cross-Val Accuracy at 47th iteration: 24.0\n",
      "Cross-Val Accuracy at 48th iteration: 24.333333333333332\n",
      "Cross-Val Accuracy at 49th iteration: 24.666666666666664\n",
      "Cross-Val Accuracy at 50th iteration: 24.666666666666664\n",
      "Cross-Val Accuracy at 51th iteration: 24.666666666666664\n",
      "Cross-Val Accuracy at 52th iteration: 25.333333333333332\n",
      "Cross-Val Accuracy at 53th iteration: 25.333333333333332\n",
      "Cross-Val Accuracy at 54th iteration: 25.999999999999996\n",
      "Cross-Val Accuracy at 55th iteration: 26.333333333333332\n",
      "Cross-Val Accuracy at 56th iteration: 26.666666666666664\n",
      "Cross-Val Accuracy at 57th iteration: 26.666666666666664\n",
      "Cross-Val Accuracy at 58th iteration: 26.666666666666664\n",
      "Cross-Val Accuracy at 59th iteration: 27.0\n",
      "Cross-Val Accuracy at 60th iteration: 27.333333333333336\n",
      "Cross-Val Accuracy at 61th iteration: 27.0\n",
      "Cross-Val Accuracy at 62th iteration: 27.0\n",
      "Cross-Val Accuracy at 63th iteration: 27.0\n",
      "Cross-Val Accuracy at 64th iteration: 27.333333333333336\n",
      "Cross-Val Accuracy at 65th iteration: 27.666666666666664\n",
      "Cross-Val Accuracy at 66th iteration: 28.333333333333336\n",
      "Cross-Val Accuracy at 67th iteration: 28.333333333333336\n",
      "Cross-Val Accuracy at 68th iteration: 29.000000000000004\n",
      "Cross-Val Accuracy at 69th iteration: 29.666666666666668\n",
      "Cross-Val Accuracy at 70th iteration: 30.0\n",
      "Cross-Val Accuracy at 71th iteration: 30.666666666666668\n",
      "Cross-Val Accuracy at 72th iteration: 31.0\n",
      "Cross-Val Accuracy at 73th iteration: 30.666666666666664\n",
      "Cross-Val Accuracy at 74th iteration: 30.666666666666664\n",
      "Cross-Val Accuracy at 75th iteration: 31.333333333333332\n",
      "Cross-Val Accuracy at 76th iteration: 31.333333333333332\n",
      "Cross-Val Accuracy at 77th iteration: 31.333333333333332\n",
      "Cross-Val Accuracy at 78th iteration: 31.333333333333332\n",
      "Cross-Val Accuracy at 79th iteration: 31.666666666666664\n",
      "Cross-Val Accuracy at 80th iteration: 32.0\n",
      "Cross-Val Accuracy at 81th iteration: 32.666666666666664\n",
      "Cross-Val Accuracy at 82th iteration: 32.666666666666664\n",
      "Cross-Val Accuracy at 83th iteration: 32.666666666666664\n",
      "Cross-Val Accuracy at 84th iteration: 32.666666666666664\n",
      "Cross-Val Accuracy at 85th iteration: 33.0\n",
      "Cross-Val Accuracy at 86th iteration: 33.33333333333333\n",
      "Cross-Val Accuracy at 87th iteration: 33.33333333333333\n",
      "Cross-Val Accuracy at 88th iteration: 33.666666666666664\n",
      "Cross-Val Accuracy at 89th iteration: 33.99999999999999\n",
      "Cross-Val Accuracy at 90th iteration: 34.33333333333333\n",
      "Cross-Val Accuracy at 91th iteration: 34.33333333333333\n",
      "Cross-Val Accuracy at 92th iteration: 34.33333333333333\n",
      "Cross-Val Accuracy at 93th iteration: 34.33333333333333\n",
      "Cross-Val Accuracy at 94th iteration: 34.33333333333333\n",
      "Cross-Val Accuracy at 95th iteration: 34.666666666666664\n",
      "Cross-Val Accuracy at 96th iteration: 34.666666666666664\n",
      "Cross-Val Accuracy at 97th iteration: 34.99999999999999\n",
      "Cross-Val Accuracy at 98th iteration: 34.99999999999999\n",
      "Cross-Val Accuracy at 99th iteration: 34.99999999999999\n",
      "Cross-Val Accuracy at 100th iteration: 34.99999999999999\n",
      "Cross-Val Accuracy at 101th iteration: 35.33333333333333\n",
      "Cross-Val Accuracy at 102th iteration: 36.0\n",
      "Cross-Val Accuracy at 103th iteration: 36.0\n",
      "Cross-Val Accuracy at 104th iteration: 36.333333333333336\n",
      "Cross-Val Accuracy at 105th iteration: 36.666666666666664\n",
      "Cross-Val Accuracy at 106th iteration: 37.0\n",
      "Cross-Val Accuracy at 107th iteration: 37.99999999999999\n",
      "Cross-Val Accuracy at 108th iteration: 38.33333333333333\n",
      "Cross-Val Accuracy at 109th iteration: 39.0\n",
      "Cross-Val Accuracy at 110th iteration: 39.0\n",
      "Cross-Val Accuracy at 111th iteration: 39.0\n",
      "Cross-Val Accuracy at 112th iteration: 39.33333333333333\n",
      "Cross-Val Accuracy at 113th iteration: 39.66666666666667\n",
      "Cross-Val Accuracy at 114th iteration: 39.66666666666667\n",
      "Cross-Val Accuracy at 115th iteration: 39.66666666666667\n",
      "Cross-Val Accuracy at 116th iteration: 40.33333333333333\n",
      "Cross-Val Accuracy at 117th iteration: 40.0\n",
      "Cross-Val Accuracy at 118th iteration: 40.33333333333333\n",
      "Cross-Val Accuracy at 119th iteration: 40.666666666666664\n",
      "Cross-Val Accuracy at 120th iteration: 41.0\n",
      "Cross-Val Accuracy at 121th iteration: 43.0\n",
      "Cross-Val Accuracy at 122th iteration: 44.66666666666667\n",
      "Cross-Val Accuracy at 123th iteration: 45.33333333333333\n",
      "Cross-Val Accuracy at 124th iteration: 45.33333333333333\n",
      "Cross-Val Accuracy at 125th iteration: 46.333333333333336\n",
      "Cross-Val Accuracy at 126th iteration: 46.66666666666667\n",
      "Cross-Val Accuracy at 127th iteration: 47.666666666666664\n",
      "Cross-Val Accuracy at 128th iteration: 48.00000000000001\n",
      "Cross-Val Accuracy at 129th iteration: 48.33333333333334\n",
      "Cross-Val Accuracy at 130th iteration: 48.66666666666667\n",
      "Cross-Val Accuracy at 131th iteration: 49.0\n",
      "Cross-Val Accuracy at 132th iteration: 49.333333333333336\n",
      "Cross-Val Accuracy at 133th iteration: 49.66666666666667\n",
      "Cross-Val Accuracy at 134th iteration: 50.33333333333333\n",
      "Cross-Val Accuracy at 135th iteration: 51.0\n",
      "Cross-Val Accuracy at 136th iteration: 51.0\n",
      "Cross-Val Accuracy at 137th iteration: 51.66666666666666\n",
      "Cross-Val Accuracy at 138th iteration: 51.66666666666666\n",
      "Cross-Val Accuracy at 139th iteration: 51.66666666666666\n",
      "Cross-Val Accuracy at 140th iteration: 51.66666666666666\n",
      "Cross-Val Accuracy at 141th iteration: 51.99999999999999\n",
      "Cross-Val Accuracy at 142th iteration: 51.99999999999999\n",
      "Cross-Val Accuracy at 143th iteration: 51.99999999999999\n",
      "Cross-Val Accuracy at 144th iteration: 51.99999999999999\n",
      "Cross-Val Accuracy at 145th iteration: 51.99999999999999\n",
      "Cross-Val Accuracy at 146th iteration: 52.33333333333334\n",
      "Cross-Val Accuracy at 147th iteration: 52.66666666666667\n",
      "Cross-Val Accuracy at 148th iteration: 53.00000000000001\n",
      "Cross-Val Accuracy at 149th iteration: 53.00000000000001\n",
      "Cross-Val Accuracy at 150th iteration: 53.00000000000001\n",
      "Cross-Val Accuracy at 151th iteration: 53.00000000000001\n",
      "Cross-Val Accuracy at 152th iteration: 53.00000000000001\n",
      "Cross-Val Accuracy at 153th iteration: 53.00000000000001\n"
     ]
    },
    {
     "name": "stdout",
     "output_type": "stream",
     "text": [
      "Cross-Val Accuracy at 154th iteration: 53.00000000000001\n",
      "Cross-Val Accuracy at 155th iteration: 53.00000000000001\n",
      "Cross-Val Accuracy at 156th iteration: 53.00000000000001\n",
      "Cross-Val Accuracy at 157th iteration: 53.33333333333334\n",
      "Cross-Val Accuracy at 158th iteration: 53.33333333333334\n",
      "Cross-Val Accuracy at 159th iteration: 53.33333333333334\n",
      "Cross-Val Accuracy at 160th iteration: 53.33333333333334\n",
      "Cross-Val Accuracy at 161th iteration: 53.66666666666667\n",
      "Cross-Val Accuracy at 162th iteration: 54.0\n",
      "Cross-Val Accuracy at 163th iteration: 54.0\n",
      "Cross-Val Accuracy at 164th iteration: 54.0\n",
      "Cross-Val Accuracy at 165th iteration: 54.333333333333336\n",
      "Cross-Val Accuracy at 166th iteration: 54.333333333333336\n",
      "Cross-Val Accuracy at 167th iteration: 55.00000000000001\n",
      "Cross-Val Accuracy at 168th iteration: 55.00000000000001\n",
      "Cross-Val Accuracy at 169th iteration: 55.33333333333334\n",
      "Cross-Val Accuracy at 170th iteration: 55.33333333333334\n",
      "Cross-Val Accuracy at 171th iteration: 55.66666666666667\n",
      "Cross-Val Accuracy at 172th iteration: 55.66666666666667\n",
      "Cross-Val Accuracy at 173th iteration: 56.00000000000001\n",
      "Cross-Val Accuracy at 174th iteration: 56.00000000000001\n",
      "Cross-Val Accuracy at 175th iteration: 56.66666666666667\n",
      "Cross-Val Accuracy at 176th iteration: 56.66666666666667\n",
      "Cross-Val Accuracy at 177th iteration: 57.333333333333336\n",
      "Cross-Val Accuracy at 178th iteration: 57.333333333333336\n",
      "Cross-Val Accuracy at 179th iteration: 57.333333333333336\n",
      "Cross-Val Accuracy at 180th iteration: 58.33333333333333\n",
      "Cross-Val Accuracy at 181th iteration: 58.0\n",
      "Cross-Val Accuracy at 182th iteration: 58.0\n",
      "Cross-Val Accuracy at 183th iteration: 58.33333333333333\n",
      "Cross-Val Accuracy at 184th iteration: 59.0\n",
      "Cross-Val Accuracy at 185th iteration: 59.0\n",
      "Cross-Val Accuracy at 186th iteration: 59.333333333333336\n",
      "Cross-Val Accuracy at 187th iteration: 59.66666666666667\n",
      "Cross-Val Accuracy at 188th iteration: 59.66666666666667\n",
      "Cross-Val Accuracy at 189th iteration: 60.33333333333333\n",
      "Cross-Val Accuracy at 190th iteration: 60.66666666666667\n",
      "Cross-Val Accuracy at 191th iteration: 60.66666666666667\n",
      "Cross-Val Accuracy at 192th iteration: 60.66666666666667\n",
      "Cross-Val Accuracy at 193th iteration: 61.00000000000001\n",
      "Cross-Val Accuracy at 194th iteration: 61.00000000000001\n",
      "Cross-Val Accuracy at 195th iteration: 61.00000000000001\n",
      "Cross-Val Accuracy at 196th iteration: 61.00000000000001\n",
      "Cross-Val Accuracy at 197th iteration: 61.00000000000001\n",
      "Cross-Val Accuracy at 198th iteration: 61.66666666666667\n",
      "Cross-Val Accuracy at 199th iteration: 61.66666666666667\n",
      "Cross-Val Accuracy at 200th iteration: 61.66666666666667\n",
      "Cross-Val Accuracy at 201th iteration: 62.0\n",
      "Cross-Val Accuracy at 202th iteration: 63.0\n",
      "Cross-Val Accuracy at 203th iteration: 63.0\n",
      "Cross-Val Accuracy at 204th iteration: 63.0\n",
      "Cross-Val Accuracy at 205th iteration: 63.99999999999999\n",
      "Cross-Val Accuracy at 206th iteration: 63.99999999999999\n",
      "Cross-Val Accuracy at 207th iteration: 63.99999999999999\n",
      "Cross-Val Accuracy at 208th iteration: 64.66666666666667\n",
      "Cross-Val Accuracy at 209th iteration: 65.0\n",
      "Cross-Val Accuracy at 210th iteration: 65.66666666666666\n",
      "Cross-Val Accuracy at 211th iteration: 66.0\n",
      "Cross-Val Accuracy at 212th iteration: 66.33333333333333\n",
      "Cross-Val Accuracy at 213th iteration: 66.33333333333333\n",
      "Cross-Val Accuracy at 214th iteration: 66.66666666666666\n",
      "Cross-Val Accuracy at 215th iteration: 66.66666666666666\n",
      "Cross-Val Accuracy at 216th iteration: 66.66666666666666\n",
      "Cross-Val Accuracy at 217th iteration: 67.0\n",
      "Cross-Val Accuracy at 218th iteration: 67.0\n",
      "Cross-Val Accuracy at 219th iteration: 67.33333333333333\n",
      "Cross-Val Accuracy at 220th iteration: 67.33333333333333\n",
      "Cross-Val Accuracy at 221th iteration: 67.66666666666666\n",
      "Cross-Val Accuracy at 222th iteration: 67.66666666666666\n",
      "Cross-Val Accuracy at 223th iteration: 67.66666666666666\n",
      "Cross-Val Accuracy at 224th iteration: 68.0\n",
      "Cross-Val Accuracy at 225th iteration: 68.0\n",
      "Cross-Val Accuracy at 226th iteration: 68.33333333333334\n",
      "Cross-Val Accuracy at 227th iteration: 68.33333333333334\n",
      "Cross-Val Accuracy at 228th iteration: 68.66666666666667\n",
      "Cross-Val Accuracy at 229th iteration: 68.66666666666667\n",
      "Cross-Val Accuracy at 230th iteration: 69.0\n",
      "Cross-Val Accuracy at 231th iteration: 69.0\n",
      "Cross-Val Accuracy at 232th iteration: 69.33333333333334\n",
      "Cross-Val Accuracy at 233th iteration: 69.33333333333334\n",
      "Cross-Val Accuracy at 234th iteration: 69.33333333333334\n",
      "Cross-Val Accuracy at 235th iteration: 69.33333333333334\n",
      "Cross-Val Accuracy at 236th iteration: 69.33333333333334\n",
      "Cross-Val Accuracy at 237th iteration: 69.33333333333334\n",
      "Cross-Val Accuracy at 238th iteration: 69.33333333333334\n",
      "Cross-Val Accuracy at 239th iteration: 69.33333333333334\n",
      "Cross-Val Accuracy at 240th iteration: 69.66666666666667\n",
      "Cross-Val Accuracy at 241th iteration: 69.66666666666667\n",
      "Cross-Val Accuracy at 242th iteration: 69.66666666666667\n",
      "Cross-Val Accuracy at 243th iteration: 69.66666666666667\n",
      "Cross-Val Accuracy at 244th iteration: 70.0\n",
      "Cross-Val Accuracy at 245th iteration: 70.33333333333333\n",
      "Cross-Val Accuracy at 246th iteration: 70.33333333333333\n",
      "Cross-Val Accuracy at 247th iteration: 70.66666666666667\n",
      "Cross-Val Accuracy at 248th iteration: 70.66666666666667\n",
      "Cross-Val Accuracy at 249th iteration: 70.66666666666667\n",
      "Cross-Val Accuracy at 250th iteration: 70.66666666666667\n"
     ]
    }
   ],
   "source": [
    "#batch\n",
    "model2 = MLP_MNIST([784, 196, 49, 10, 10], 250)\n",
    "model2.train(X_train, y_train, X_train.shape[0])"
   ]
  },
  {
   "cell_type": "code",
   "execution_count": 26,
   "metadata": {},
   "outputs": [
    {
     "name": "stdout",
     "output_type": "stream",
     "text": [
      "[[ 5.  0.  0.  1.  0.  0. 21.  0.  0.  0.]\n",
      " [ 0. 36.  0.  1.  0.  0.  0.  0.  0.  0.]\n",
      " [ 0.  0. 39.  0.  0.  0.  1.  0.  0.  0.]\n",
      " [ 0.  0.  0. 34.  0.  0.  1.  0.  0.  0.]\n",
      " [ 0.  0.  4.  0.  0.  0.  5.  1.  9.  4.]\n",
      " [ 0.  0.  1. 19.  0.  0.  2.  0.  1.  0.]\n",
      " [ 0.  0.  0.  0.  0.  0. 30.  0.  0.  0.]\n",
      " [ 0.  0.  0.  0.  0.  0.  0. 25.  0.  2.]\n",
      " [ 0.  1.  1.  5.  0.  0.  2.  0. 17.  0.]\n",
      " [ 0.  0.  1.  1.  0.  0.  1.  3.  0. 26.]]\n"
     ]
    }
   ],
   "source": [
    "y_pred_train_1 = model2.predict(X_train.T)\n",
    "model2.confusion_matrix(y_train, y_pred_train_1)"
   ]
  },
  {
   "cell_type": "code",
   "execution_count": 27,
   "metadata": {},
   "outputs": [
    {
     "name": "stdout",
     "output_type": "stream",
     "text": [
      "[[ 7.  0.  2. 17.  0.  0. 41.  0.  1.  0.]\n",
      " [ 0. 55.  1.  0.  0.  0.  0.  0.  1.  1.]\n",
      " [ 0.  1. 52.  6.  0.  0.  4.  2.  2.  0.]\n",
      " [ 0.  4.  5. 60.  0.  0.  6.  1.  2.  4.]\n",
      " [ 2. 12.  9. 11.  0.  0. 10.  9.  7. 27.]\n",
      " [ 0.  0.  5. 45.  0.  0.  5.  4.  2.  6.]\n",
      " [ 1.  0. 11.  4.  0.  0. 52.  1.  1.  0.]\n",
      " [ 0.  6.  1.  0.  0.  0.  1. 60.  0.  5.]\n",
      " [ 1. 11. 14. 11.  1.  0.  7.  2.  8.  2.]\n",
      " [ 1.  8.  4.  0.  0.  0.  8. 15.  1. 34.]]\n"
     ]
    }
   ],
   "source": [
    "y_pred_test_1 = model2.predict(X_test)\n",
    "model2.confusion_matrix(y_test, y_pred_test_1)"
   ]
  },
  {
   "cell_type": "code",
   "execution_count": 28,
   "metadata": {},
   "outputs": [
    {
     "data": {
      "image/png": "[encoded data removed]",
      "text/plain": [
       "<Figure size 1440x648 with 1 Axes>"
      ]
     },
     "metadata": {},
     "output_type": "display_data"
    }
   ],
   "source": [
    "model2.error_iteration_curve()"
   ]
  },
  {
   "cell_type": "markdown",
   "metadata": {},
   "source": [
    "## Mini-Batch Learning"
   ]
  },
  {
   "cell_type": "code",
   "execution_count": 29,
   "metadata": {},
   "outputs": [
    {
     "name": "stdout",
     "output_type": "stream",
     "text": [
      "Cross-Val Accuracy at 1th iteration: 14.999999999999998\n",
      "Cross-Val Accuracy at 2th iteration: 21.666666666666664\n",
      "Cross-Val Accuracy at 3th iteration: 22.33333333333333\n",
      "Cross-Val Accuracy at 4th iteration: 23.333333333333336\n",
      "Cross-Val Accuracy at 5th iteration: 26.333333333333332\n",
      "Cross-Val Accuracy at 6th iteration: 27.666666666666664\n",
      "Cross-Val Accuracy at 7th iteration: 29.66666666666667\n",
      "Cross-Val Accuracy at 8th iteration: 30.666666666666668\n",
      "Cross-Val Accuracy at 9th iteration: 32.666666666666664\n",
      "Cross-Val Accuracy at 10th iteration: 34.33333333333333\n",
      "Cross-Val Accuracy at 11th iteration: 34.99999999999999\n",
      "Cross-Val Accuracy at 12th iteration: 35.666666666666664\n",
      "Cross-Val Accuracy at 13th iteration: 36.666666666666664\n",
      "Cross-Val Accuracy at 14th iteration: 38.333333333333336\n",
      "Cross-Val Accuracy at 15th iteration: 39.33333333333333\n",
      "Cross-Val Accuracy at 16th iteration: 40.33333333333334\n",
      "Cross-Val Accuracy at 17th iteration: 41.00000000000001\n",
      "Cross-Val Accuracy at 18th iteration: 42.666666666666664\n",
      "Cross-Val Accuracy at 19th iteration: 44.66666666666667\n",
      "Cross-Val Accuracy at 20th iteration: 46.0\n",
      "Cross-Val Accuracy at 21th iteration: 46.99999999999999\n",
      "Cross-Val Accuracy at 22th iteration: 49.333333333333336\n",
      "Cross-Val Accuracy at 23th iteration: 52.0\n",
      "Cross-Val Accuracy at 24th iteration: 54.333333333333336\n",
      "Cross-Val Accuracy at 25th iteration: 55.666666666666664\n",
      "Cross-Val Accuracy at 26th iteration: 56.333333333333336\n",
      "Cross-Val Accuracy at 27th iteration: 56.66666666666667\n",
      "Cross-Val Accuracy at 28th iteration: 57.333333333333336\n",
      "Cross-Val Accuracy at 29th iteration: 58.666666666666664\n",
      "Cross-Val Accuracy at 30th iteration: 59.66666666666666\n",
      "Cross-Val Accuracy at 31th iteration: 61.0\n",
      "Cross-Val Accuracy at 32th iteration: 61.66666666666666\n",
      "Cross-Val Accuracy at 33th iteration: 63.00000000000001\n",
      "Cross-Val Accuracy at 34th iteration: 64.66666666666667\n",
      "Cross-Val Accuracy at 35th iteration: 67.66666666666666\n",
      "Cross-Val Accuracy at 36th iteration: 69.33333333333334\n",
      "Cross-Val Accuracy at 37th iteration: 70.0\n",
      "Cross-Val Accuracy at 38th iteration: 70.33333333333333\n",
      "Cross-Val Accuracy at 39th iteration: 71.33333333333333\n",
      "Cross-Val Accuracy at 40th iteration: 72.33333333333333\n",
      "Cross-Val Accuracy at 41th iteration: 72.0\n",
      "Cross-Val Accuracy at 42th iteration: 74.0\n",
      "Cross-Val Accuracy at 43th iteration: 75.66666666666667\n",
      "Cross-Val Accuracy at 44th iteration: 77.0\n",
      "Cross-Val Accuracy at 45th iteration: 77.66666666666667\n",
      "Cross-Val Accuracy at 46th iteration: 78.66666666666667\n",
      "Cross-Val Accuracy at 47th iteration: 80.33333333333333\n",
      "Cross-Val Accuracy at 48th iteration: 81.66666666666666\n",
      "Cross-Val Accuracy at 49th iteration: 82.0\n",
      "Cross-Val Accuracy at 50th iteration: 82.66666666666666\n",
      "Cross-Val Accuracy at 51th iteration: 83.66666666666666\n",
      "Cross-Val Accuracy at 52th iteration: 83.99999999999999\n",
      "Cross-Val Accuracy at 53th iteration: 84.33333333333331\n",
      "Cross-Val Accuracy at 54th iteration: 84.33333333333331\n",
      "Cross-Val Accuracy at 55th iteration: 84.66666666666666\n",
      "Cross-Val Accuracy at 56th iteration: 84.66666666666666\n",
      "Cross-Val Accuracy at 57th iteration: 84.66666666666666\n",
      "Cross-Val Accuracy at 58th iteration: 85.0\n",
      "Cross-Val Accuracy at 59th iteration: 85.66666666666666\n",
      "Cross-Val Accuracy at 60th iteration: 85.66666666666666\n",
      "Cross-Val Accuracy at 61th iteration: 85.66666666666666\n",
      "Cross-Val Accuracy at 62th iteration: 86.0\n",
      "Cross-Val Accuracy at 63th iteration: 86.33333333333333\n",
      "Cross-Val Accuracy at 64th iteration: 86.66666666666666\n",
      "Cross-Val Accuracy at 65th iteration: 86.66666666666666\n",
      "Cross-Val Accuracy at 66th iteration: 86.66666666666666\n",
      "Cross-Val Accuracy at 67th iteration: 86.66666666666666\n",
      "Cross-Val Accuracy at 68th iteration: 87.0\n",
      "Cross-Val Accuracy at 69th iteration: 87.0\n",
      "Cross-Val Accuracy at 70th iteration: 87.33333333333334\n",
      "Cross-Val Accuracy at 71th iteration: 87.66666666666667\n",
      "Cross-Val Accuracy at 72th iteration: 87.66666666666667\n",
      "Cross-Val Accuracy at 73th iteration: 88.0\n",
      "Cross-Val Accuracy at 74th iteration: 88.33333333333334\n",
      "Cross-Val Accuracy at 75th iteration: 88.33333333333334\n",
      "Cross-Val Accuracy at 76th iteration: 88.33333333333334\n",
      "Cross-Val Accuracy at 77th iteration: 88.33333333333334\n",
      "Cross-Val Accuracy at 78th iteration: 88.33333333333334\n",
      "Cross-Val Accuracy at 79th iteration: 88.33333333333334\n",
      "Cross-Val Accuracy at 80th iteration: 88.33333333333334\n",
      "Cross-Val Accuracy at 81th iteration: 88.33333333333334\n",
      "Cross-Val Accuracy at 82th iteration: 88.33333333333334\n",
      "Cross-Val Accuracy at 83th iteration: 88.66666666666667\n",
      "Cross-Val Accuracy at 84th iteration: 89.0\n",
      "Cross-Val Accuracy at 85th iteration: 89.0\n",
      "Cross-Val Accuracy at 86th iteration: 89.0\n",
      "Cross-Val Accuracy at 87th iteration: 89.0\n",
      "Cross-Val Accuracy at 88th iteration: 89.0\n",
      "Cross-Val Accuracy at 89th iteration: 89.33333333333334\n",
      "Cross-Val Accuracy at 90th iteration: 89.66666666666667\n",
      "Cross-Val Accuracy at 91th iteration: 90.0\n",
      "Cross-Val Accuracy at 92th iteration: 90.33333333333333\n",
      "Cross-Val Accuracy at 93th iteration: 90.33333333333333\n",
      "Cross-Val Accuracy at 94th iteration: 91.00000000000001\n",
      "Cross-Val Accuracy at 95th iteration: 91.00000000000001\n",
      "Cross-Val Accuracy at 96th iteration: 91.00000000000001\n",
      "Cross-Val Accuracy at 97th iteration: 91.00000000000001\n",
      "Cross-Val Accuracy at 98th iteration: 91.00000000000001\n",
      "Cross-Val Accuracy at 99th iteration: 91.00000000000001\n",
      "Cross-Val Accuracy at 100th iteration: 91.00000000000001\n"
     ]
    }
   ],
   "source": [
    "#minibatch(batch_size = 50)\n",
    "model3 = MLP_MNIST([784, 196, 49, 10, 10],100)\n",
    "model3.train(X_train, y_train, 50)"
   ]
  },
  {
   "cell_type": "code",
   "execution_count": 31,
   "metadata": {},
   "outputs": [
    {
     "name": "stdout",
     "output_type": "stream",
     "text": [
      "[[26.  0.  0.  0.  0.  0.  0.  0.  0.  1.]\n",
      " [ 0. 36.  0.  0.  0.  0.  0.  0.  1.  0.]\n",
      " [ 0.  0. 38.  0.  0.  0.  0.  0.  2.  0.]\n",
      " [ 0.  8.  0. 25.  1.  1.  0.  0.  0.  0.]\n",
      " [ 0.  0.  1.  0. 22.  0.  0.  0.  0.  0.]\n",
      " [ 1.  0.  0.  0.  0. 22.  0.  0.  0.  0.]\n",
      " [ 0.  0.  0.  0.  0.  0. 30.  0.  0.  0.]\n",
      " [ 0.  1.  0.  0.  0.  0.  0. 25.  0.  1.]\n",
      " [ 0.  0.  1.  1.  1.  0.  0.  0. 23.  0.]\n",
      " [ 0.  0.  0.  0.  1.  0.  2.  2.  1. 26.]]\n"
     ]
    }
   ],
   "source": [
    "y_pred_train_1 = model3.predict(X_train.T)\n",
    "model3.confusion_matrix(y_train, y_pred_train_1)"
   ]
  },
  {
   "cell_type": "code",
   "execution_count": 32,
   "metadata": {},
   "outputs": [
    {
     "name": "stdout",
     "output_type": "stream",
     "text": [
      "[[56.  1.  0.  0.  3.  0.  6.  0.  0.  2.]\n",
      " [ 0. 54.  0.  1.  0.  0.  0.  0.  3.  0.]\n",
      " [ 1.  6. 41.  3.  0.  1.  8.  0.  6.  1.]\n",
      " [ 2. 17.  3. 43.  1.  5.  1.  3.  7.  0.]\n",
      " [ 6.  4.  7.  0. 41.  1.  3.  2.  2. 21.]\n",
      " [18.  3.  2.  9.  5. 24.  0.  1.  4.  1.]\n",
      " [ 3.  0.  5.  0.  1.  9. 48.  0.  2.  2.]\n",
      " [ 1.  2.  5.  0.  1.  0.  0. 58.  1.  5.]\n",
      " [ 1. 15.  6.  0.  1.  6.  1.  1. 22.  4.]\n",
      " [ 7.  6.  3.  0.  7.  1.  0. 10.  4. 33.]]\n"
     ]
    }
   ],
   "source": [
    "y_pred_test_1 = model3.predict(X_test)\n",
    "model3.confusion_matrix(y_test, y_pred_test_1)"
   ]
  },
  {
   "cell_type": "code",
   "execution_count": 33,
   "metadata": {},
   "outputs": [
    {
     "data": {
      "image/png": "[encoded data removed]",
      "text/plain": [
       "<Figure size 1440x648 with 1 Axes>"
      ]
     },
     "metadata": {},
     "output_type": "display_data"
    }
   ],
   "source": [
    "model3.error_iteration_curve()"
   ]
  },
  {
   "cell_type": "code",
   "execution_count": null,
   "metadata": {},
   "outputs": [],
   "source": []
  }
 ],
 "metadata": {
  "kernelspec": {
   "display_name": "Python 3",
   "language": "python",
   "name": "python3"
  },
  "language_info": {
   "codemirror_mode": {
    "name": "ipython",
    "version": 3
   },
   "file_extension": ".py",
   "mimetype": "text/x-python",
   "name": "python",
   "nbconvert_exporter": "python",
   "pygments_lexer": "ipython3",
   "version": "3.7.6"
  }
 },
 "nbformat": 4,
 "nbformat_minor": 4
}

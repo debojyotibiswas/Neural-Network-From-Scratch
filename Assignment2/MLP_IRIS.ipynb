{
 "cells": [
  {
   "cell_type": "code",
   "execution_count": 1,
   "metadata": {},
   "outputs": [],
   "source": [
    "from sklearn import datasets\n",
    "import matplotlib.pyplot as plt\n",
    "from sklearn.utils import shuffle\n",
    "import numpy as np\n",
    "from sklearn.model_selection import KFold"
   ]
  },
  {
   "cell_type": "code",
   "execution_count": 2,
   "metadata": {},
   "outputs": [],
   "source": [
    "iris = datasets.load_iris()"
   ]
  },
  {
   "cell_type": "code",
   "execution_count": 3,
   "metadata": {},
   "outputs": [],
   "source": [
    "X = iris.data\n",
    "y = iris.target"
   ]
  },
  {
   "cell_type": "code",
   "execution_count": 4,
   "metadata": {},
   "outputs": [],
   "source": [
    "X, y = shuffle(X, y)"
   ]
  },
  {
   "cell_type": "code",
   "execution_count": 5,
   "metadata": {},
   "outputs": [],
   "source": [
    "size = 0.3\n",
    "test_size = int(size * len(X))\n",
    "X_train, X_test = X[:test_size], X[test_size:]\n",
    "y_train, y_test = y[:test_size], y[test_size:]\n"
   ]
  },
  {
   "cell_type": "code",
   "execution_count": 6,
   "metadata": {},
   "outputs": [],
   "source": [
    "X_test = X_test.T"
   ]
  },
  {
   "cell_type": "code",
   "execution_count": 7,
   "metadata": {},
   "outputs": [],
   "source": [
    "class MLP_iris:\n",
    "    \n",
    "    def __init__(self,sizes,alpha = 0.1, eta = 0.1,epoch = 100):\n",
    "        \n",
    "        self.sizes = sizes\n",
    "        self.epoch = epoch\n",
    "        self.eta = eta\n",
    "        self.alpha = alpha / alpha\n",
    "        self.error= []\n",
    "        \n",
    "        self.input_layer = self.sizes[0]\n",
    "        self.hidden_1 = self.sizes[1]\n",
    "        self.output_layer = self.sizes[2]\n",
    "        \n",
    "        self.W1 = np.random.rand(self.hidden_1, self.input_layer) - 0.5\n",
    "        self.b1 = np.random.rand(self.hidden_1, 1) - 0.5\n",
    "        self.W2 = np.random.rand(self.output_layer, self.hidden_1) - 0.5\n",
    "        self.b2 = np.random.rand(self.output_layer, 1) - 0.5\n",
    "        \n",
    "    def sigmoid(self, x, derivative=False):\n",
    "        if derivative:\n",
    "            return (np.exp(-x))/((np.exp(-x)+1)**2)\n",
    "        return 1/(1 + np.exp(-x))\n",
    "    \n",
    "    def forward_prop(self, X):\n",
    "        \n",
    "        self.A0 = X\n",
    "        self.Z1 = np.dot(self.W1, self.A0) + self.b1\n",
    "        self.A1 = self.sigmoid(self.Z1)\n",
    "        \n",
    "        self.Z2 = np.dot(self.W2, self.A1) + self.b2\n",
    "        self.A2 = self.sigmoid(self.Z2)\n",
    "        \n",
    "        return self.A2\n",
    "    \n",
    "    def one_hot(self,Y):\n",
    "        one_hot_Y = np.zeros((Y.size, 3))\n",
    "        one_hot_Y[np.arange(Y.size), Y] = 1\n",
    "        one_hot_Y = one_hot_Y.T\n",
    "        return one_hot_Y\n",
    "    \n",
    "    def backward_prop(self, y_train, output, start_id, end_id):\n",
    "        \n",
    "        one_hot_y = self.one_hot(y_train)\n",
    "        one_hot_y = one_hot_y[:,start_id:end_id]\n",
    "        \n",
    "        self.dA2 = output - one_hot_y\n",
    "        self.dZ2 = np.multiply(self.sigmoid(self.Z2,derivative=True), self.dA2)\n",
    "        self.dW2 = 1/self.dZ2.shape[1] * np.dot(self.dZ2, self.A1.T)\n",
    "        self.db2 = 1/self.dZ2.shape[1] * np.sum(self.dZ2, axis=1, keepdims=True)\n",
    "        \n",
    "        self.dA1 = np.dot(self.W2.T, self.dZ2)\n",
    "        self.dZ1 = np.multiply(self.sigmoid(self.Z1,derivative=True), self.dA1)\n",
    "        self.dW1 = 1/self.dZ1.shape[1] * np.dot(self.dZ1, self.A0.T)\n",
    "        self.db1 = 1/self.dZ1.shape[1] * np.sum(self.dZ1, axis=1, keepdims=True)\n",
    "        \n",
    "        \n",
    "        self.W2 = self.alpha * self.W2 - self.eta * self.dW2\n",
    "        self.b2 = self.alpha * self.b2 - self.eta * self.db2\n",
    "        self.W1 = self.alpha * self.W1 - self.eta * self.dW1\n",
    "        self.b1 = self.alpha * self.b1 - self.eta * self.db1\n",
    "    \n",
    "    \n",
    "    def train(self, X, y, batch_size):\n",
    "        \n",
    "        self.batch_size = batch_size\n",
    "        for iteration in range(self.epoch):\n",
    "            \n",
    "            m = 0\n",
    "            accuracy = 0\n",
    "            kf = KFold(n_splits=10)\n",
    "            for train_index, test_index in kf.split(X, y):\n",
    "                \n",
    "                x_train, x_test = X[train_index,:], X[test_index,:]\n",
    "                y_train, y_test = y[train_index],y[test_index]\n",
    "                \n",
    "                x_train = x_train.T\n",
    "                x_test = x_test.T\n",
    "                self.batch_size = min(self.batch_size, x_train.shape[1])\n",
    "                start_id, end_id = 0, self.batch_size\n",
    "                while end_id <= x_train.shape[1]:\n",
    "\n",
    "                    x = x_train[:,start_id: end_id]\n",
    "                    output = self.forward_prop(x)\n",
    "                    m += 1 / self.batch_size * np.sum(np.argmax(output, 0) != y_train[start_id: end_id])\n",
    "                    self.backward_prop(y_train, output,start_id, end_id)\n",
    "\n",
    "                    start_id = end_id\n",
    "                    end_id = end_id + self.batch_size\n",
    "                \n",
    "                accuracy += self.get_accuracy(x_test, y_test)\n",
    "            \n",
    "            \n",
    "            print('Cross-Val Accuracy at {}th iteration: {}'.format(iteration + 1, accuracy * 10))\n",
    "            self.error.append(m)\n",
    "    \n",
    "    def predict(self,X):\n",
    "        \n",
    "        predictions = []\n",
    "        \n",
    "        output = self.forward_prop(X)\n",
    "        return np.argmax(output, 0)\n",
    "    \n",
    "    def confusion_matrix(self, y, y_pred):\n",
    "        \n",
    "        classes = np.unique(y)\n",
    "        conf_mat = np.zeros((len(classes), len(classes)))\n",
    "        for a, p in zip(y, y_pred):\n",
    "            conf_mat[a][p] += 1\n",
    "        print(conf_mat)\n",
    "    \n",
    "    def error_iteration_curve(self):\n",
    "        \n",
    "        import seaborn as sns\n",
    "        sns.set_style(\"darkgrid\", {\"grid.color\": \".6\", \"grid.linestyle\": \":\"})\n",
    "        fig = plt.figure(figsize=(20,9))\n",
    "        plt.xlabel('Epoch')\n",
    "        plt.ylabel('Error')\n",
    "        plt.plot(self.error,'r--')\n",
    "        plt.show()\n",
    "        \n",
    "    \n",
    "    def get_accuracy(self, X, y):\n",
    "        output = np.argmax(self.forward_prop(X), 0)\n",
    "        return np.sum(output == y) / y.size\n",
    "    \n",
    "        \n",
    "    "
   ]
  },
  {
   "cell_type": "markdown",
   "metadata": {},
   "source": [
    "## Stochastic Learning"
   ]
  },
  {
   "cell_type": "code",
   "execution_count": 9,
   "metadata": {},
   "outputs": [
    {
     "name": "stdout",
     "output_type": "stream",
     "text": [
      "Cross-Val Accuracy at 1th iteration: 65.5\n",
      "Cross-Val Accuracy at 2th iteration: 67.5\n",
      "Cross-Val Accuracy at 3th iteration: 67.5\n",
      "Cross-Val Accuracy at 4th iteration: 70.0\n",
      "Cross-Val Accuracy at 5th iteration: 72.5\n",
      "Cross-Val Accuracy at 6th iteration: 83.50000000000001\n",
      "Cross-Val Accuracy at 7th iteration: 93.5\n",
      "Cross-Val Accuracy at 8th iteration: 95.0\n",
      "Cross-Val Accuracy at 9th iteration: 92.5\n",
      "Cross-Val Accuracy at 10th iteration: 92.5\n",
      "Cross-Val Accuracy at 11th iteration: 92.5\n",
      "Cross-Val Accuracy at 12th iteration: 92.5\n",
      "Cross-Val Accuracy at 13th iteration: 92.5\n",
      "Cross-Val Accuracy at 14th iteration: 92.5\n",
      "Cross-Val Accuracy at 15th iteration: 92.5\n",
      "Cross-Val Accuracy at 16th iteration: 92.5\n",
      "Cross-Val Accuracy at 17th iteration: 92.5\n",
      "Cross-Val Accuracy at 18th iteration: 92.5\n",
      "Cross-Val Accuracy at 19th iteration: 92.5\n",
      "Cross-Val Accuracy at 20th iteration: 92.5\n",
      "Cross-Val Accuracy at 21th iteration: 95.0\n",
      "Cross-Val Accuracy at 22th iteration: 95.0\n",
      "Cross-Val Accuracy at 23th iteration: 95.0\n",
      "Cross-Val Accuracy at 24th iteration: 95.0\n",
      "Cross-Val Accuracy at 25th iteration: 95.0\n",
      "Cross-Val Accuracy at 26th iteration: 95.0\n",
      "Cross-Val Accuracy at 27th iteration: 95.0\n",
      "Cross-Val Accuracy at 28th iteration: 95.0\n",
      "Cross-Val Accuracy at 29th iteration: 95.0\n",
      "Cross-Val Accuracy at 30th iteration: 95.0\n",
      "Cross-Val Accuracy at 31th iteration: 95.0\n",
      "Cross-Val Accuracy at 32th iteration: 95.0\n",
      "Cross-Val Accuracy at 33th iteration: 95.0\n",
      "Cross-Val Accuracy at 34th iteration: 95.0\n",
      "Cross-Val Accuracy at 35th iteration: 95.0\n",
      "Cross-Val Accuracy at 36th iteration: 95.0\n",
      "Cross-Val Accuracy at 37th iteration: 95.0\n",
      "Cross-Val Accuracy at 38th iteration: 95.0\n",
      "Cross-Val Accuracy at 39th iteration: 95.0\n",
      "Cross-Val Accuracy at 40th iteration: 95.0\n",
      "Cross-Val Accuracy at 41th iteration: 95.0\n",
      "Cross-Val Accuracy at 42th iteration: 95.0\n",
      "Cross-Val Accuracy at 43th iteration: 95.0\n",
      "Cross-Val Accuracy at 44th iteration: 95.0\n",
      "Cross-Val Accuracy at 45th iteration: 95.0\n",
      "Cross-Val Accuracy at 46th iteration: 95.0\n",
      "Cross-Val Accuracy at 47th iteration: 95.0\n",
      "Cross-Val Accuracy at 48th iteration: 95.0\n",
      "Cross-Val Accuracy at 49th iteration: 95.0\n",
      "Cross-Val Accuracy at 50th iteration: 95.0\n",
      "Cross-Val Accuracy at 51th iteration: 95.0\n",
      "Cross-Val Accuracy at 52th iteration: 92.5\n",
      "Cross-Val Accuracy at 53th iteration: 92.5\n",
      "Cross-Val Accuracy at 54th iteration: 92.5\n",
      "Cross-Val Accuracy at 55th iteration: 92.5\n",
      "Cross-Val Accuracy at 56th iteration: 92.5\n",
      "Cross-Val Accuracy at 57th iteration: 92.5\n",
      "Cross-Val Accuracy at 58th iteration: 92.5\n",
      "Cross-Val Accuracy at 59th iteration: 92.5\n",
      "Cross-Val Accuracy at 60th iteration: 92.5\n",
      "Cross-Val Accuracy at 61th iteration: 92.5\n",
      "Cross-Val Accuracy at 62th iteration: 95.0\n",
      "Cross-Val Accuracy at 63th iteration: 95.0\n",
      "Cross-Val Accuracy at 64th iteration: 95.0\n",
      "Cross-Val Accuracy at 65th iteration: 95.0\n",
      "Cross-Val Accuracy at 66th iteration: 95.0\n",
      "Cross-Val Accuracy at 67th iteration: 95.0\n",
      "Cross-Val Accuracy at 68th iteration: 95.0\n",
      "Cross-Val Accuracy at 69th iteration: 95.0\n",
      "Cross-Val Accuracy at 70th iteration: 95.0\n",
      "Cross-Val Accuracy at 71th iteration: 95.0\n",
      "Cross-Val Accuracy at 72th iteration: 97.5\n",
      "Cross-Val Accuracy at 73th iteration: 97.5\n",
      "Cross-Val Accuracy at 74th iteration: 97.5\n",
      "Cross-Val Accuracy at 75th iteration: 100.0\n",
      "Cross-Val Accuracy at 76th iteration: 100.0\n",
      "Cross-Val Accuracy at 77th iteration: 100.0\n",
      "Cross-Val Accuracy at 78th iteration: 100.0\n",
      "Cross-Val Accuracy at 79th iteration: 100.0\n",
      "Cross-Val Accuracy at 80th iteration: 100.0\n",
      "Cross-Val Accuracy at 81th iteration: 100.0\n",
      "Cross-Val Accuracy at 82th iteration: 97.5\n",
      "Cross-Val Accuracy at 83th iteration: 100.0\n",
      "Cross-Val Accuracy at 84th iteration: 100.0\n",
      "Cross-Val Accuracy at 85th iteration: 95.0\n",
      "Cross-Val Accuracy at 86th iteration: 100.0\n",
      "Cross-Val Accuracy at 87th iteration: 100.0\n",
      "Cross-Val Accuracy at 88th iteration: 100.0\n",
      "Cross-Val Accuracy at 89th iteration: 100.0\n",
      "Cross-Val Accuracy at 90th iteration: 100.0\n",
      "Cross-Val Accuracy at 91th iteration: 97.5\n",
      "Cross-Val Accuracy at 92th iteration: 95.0\n",
      "Cross-Val Accuracy at 93th iteration: 95.0\n",
      "Cross-Val Accuracy at 94th iteration: 100.0\n",
      "Cross-Val Accuracy at 95th iteration: 95.0\n",
      "Cross-Val Accuracy at 96th iteration: 100.0\n",
      "Cross-Val Accuracy at 97th iteration: 100.0\n",
      "Cross-Val Accuracy at 98th iteration: 100.0\n",
      "Cross-Val Accuracy at 99th iteration: 100.0\n",
      "Cross-Val Accuracy at 100th iteration: 100.0\n"
     ]
    }
   ],
   "source": [
    "#stochastic\n",
    "model1 = MLP_iris([4, 4, 3])\n",
    "model1.train(X_train, y_train, 1)"
   ]
  },
  {
   "cell_type": "code",
   "execution_count": 28,
   "metadata": {},
   "outputs": [
    {
     "name": "stdout",
     "output_type": "stream",
     "text": [
      "[[ 9.  0.  0.]\n",
      " [ 0. 14.  1.]\n",
      " [ 0.  0. 21.]]\n"
     ]
    }
   ],
   "source": [
    "y_pred_train_1 = model1.predict(X_train.T)\n",
    "model1.confusion_matrix(y_train, y_pred_train_1)"
   ]
  },
  {
   "cell_type": "code",
   "execution_count": 29,
   "metadata": {},
   "outputs": [
    {
     "name": "stdout",
     "output_type": "stream",
     "text": [
      "[[41.  0.  0.]\n",
      " [ 0. 30.  5.]\n",
      " [ 0.  0. 29.]]\n"
     ]
    }
   ],
   "source": [
    "y_pred_test_1 = model1.predict(X_test)\n",
    "model1.confusion_matrix(y_test, y_pred_test_1)"
   ]
  },
  {
   "cell_type": "code",
   "execution_count": 30,
   "metadata": {},
   "outputs": [
    {
     "data": {
      "image/png": "[encoded data removed]",
      "text/plain": [
       "<Figure size 1440x648 with 1 Axes>"
      ]
     },
     "metadata": {},
     "output_type": "display_data"
    }
   ],
   "source": [
    "model1.error_iteration_curve()"
   ]
  },
  {
   "cell_type": "markdown",
   "metadata": {},
   "source": [
    "## Batch Learning"
   ]
  },
  {
   "cell_type": "code",
   "execution_count": 31,
   "metadata": {},
   "outputs": [
    {
     "name": "stdout",
     "output_type": "stream",
     "text": [
      "Cross-Val Accuracy at 1th iteration: 20.0\n",
      "Cross-Val Accuracy at 2th iteration: 56.0\n",
      "Cross-Val Accuracy at 3th iteration: 50.0\n",
      "Cross-Val Accuracy at 4th iteration: 46.0\n",
      "Cross-Val Accuracy at 5th iteration: 46.0\n",
      "Cross-Val Accuracy at 6th iteration: 46.0\n",
      "Cross-Val Accuracy at 7th iteration: 46.0\n",
      "Cross-Val Accuracy at 8th iteration: 46.0\n",
      "Cross-Val Accuracy at 9th iteration: 46.0\n",
      "Cross-Val Accuracy at 10th iteration: 46.0\n",
      "Cross-Val Accuracy at 11th iteration: 46.0\n",
      "Cross-Val Accuracy at 12th iteration: 46.0\n",
      "Cross-Val Accuracy at 13th iteration: 46.0\n",
      "Cross-Val Accuracy at 14th iteration: 46.0\n",
      "Cross-Val Accuracy at 15th iteration: 46.0\n",
      "Cross-Val Accuracy at 16th iteration: 46.0\n",
      "Cross-Val Accuracy at 17th iteration: 46.0\n",
      "Cross-Val Accuracy at 18th iteration: 46.0\n",
      "Cross-Val Accuracy at 19th iteration: 46.0\n",
      "Cross-Val Accuracy at 20th iteration: 46.0\n",
      "Cross-Val Accuracy at 21th iteration: 46.0\n",
      "Cross-Val Accuracy at 22th iteration: 46.0\n",
      "Cross-Val Accuracy at 23th iteration: 46.0\n",
      "Cross-Val Accuracy at 24th iteration: 46.0\n",
      "Cross-Val Accuracy at 25th iteration: 46.0\n",
      "Cross-Val Accuracy at 26th iteration: 46.0\n",
      "Cross-Val Accuracy at 27th iteration: 46.0\n",
      "Cross-Val Accuracy at 28th iteration: 46.0\n",
      "Cross-Val Accuracy at 29th iteration: 46.0\n",
      "Cross-Val Accuracy at 30th iteration: 46.0\n",
      "Cross-Val Accuracy at 31th iteration: 46.0\n",
      "Cross-Val Accuracy at 32th iteration: 46.0\n",
      "Cross-Val Accuracy at 33th iteration: 46.0\n",
      "Cross-Val Accuracy at 34th iteration: 46.0\n",
      "Cross-Val Accuracy at 35th iteration: 46.0\n",
      "Cross-Val Accuracy at 36th iteration: 46.0\n",
      "Cross-Val Accuracy at 37th iteration: 46.0\n",
      "Cross-Val Accuracy at 38th iteration: 46.0\n",
      "Cross-Val Accuracy at 39th iteration: 46.0\n",
      "Cross-Val Accuracy at 40th iteration: 46.0\n",
      "Cross-Val Accuracy at 41th iteration: 46.0\n",
      "Cross-Val Accuracy at 42th iteration: 46.0\n",
      "Cross-Val Accuracy at 43th iteration: 55.0\n",
      "Cross-Val Accuracy at 44th iteration: 56.99999999999999\n",
      "Cross-Val Accuracy at 45th iteration: 56.99999999999999\n",
      "Cross-Val Accuracy at 46th iteration: 63.5\n",
      "Cross-Val Accuracy at 47th iteration: 66.0\n",
      "Cross-Val Accuracy at 48th iteration: 66.0\n",
      "Cross-Val Accuracy at 49th iteration: 66.0\n",
      "Cross-Val Accuracy at 50th iteration: 66.0\n",
      "Cross-Val Accuracy at 51th iteration: 66.0\n",
      "Cross-Val Accuracy at 52th iteration: 66.0\n",
      "Cross-Val Accuracy at 53th iteration: 66.0\n",
      "Cross-Val Accuracy at 54th iteration: 66.0\n",
      "Cross-Val Accuracy at 55th iteration: 66.0\n",
      "Cross-Val Accuracy at 56th iteration: 66.0\n",
      "Cross-Val Accuracy at 57th iteration: 66.0\n",
      "Cross-Val Accuracy at 58th iteration: 66.0\n",
      "Cross-Val Accuracy at 59th iteration: 66.0\n",
      "Cross-Val Accuracy at 60th iteration: 66.0\n",
      "Cross-Val Accuracy at 61th iteration: 66.0\n",
      "Cross-Val Accuracy at 62th iteration: 66.0\n",
      "Cross-Val Accuracy at 63th iteration: 66.0\n",
      "Cross-Val Accuracy at 64th iteration: 66.0\n",
      "Cross-Val Accuracy at 65th iteration: 66.0\n",
      "Cross-Val Accuracy at 66th iteration: 66.0\n",
      "Cross-Val Accuracy at 67th iteration: 66.0\n",
      "Cross-Val Accuracy at 68th iteration: 66.0\n",
      "Cross-Val Accuracy at 69th iteration: 66.0\n",
      "Cross-Val Accuracy at 70th iteration: 66.0\n",
      "Cross-Val Accuracy at 71th iteration: 66.0\n",
      "Cross-Val Accuracy at 72th iteration: 66.0\n",
      "Cross-Val Accuracy at 73th iteration: 66.0\n",
      "Cross-Val Accuracy at 74th iteration: 66.0\n",
      "Cross-Val Accuracy at 75th iteration: 66.0\n",
      "Cross-Val Accuracy at 76th iteration: 66.0\n",
      "Cross-Val Accuracy at 77th iteration: 66.0\n",
      "Cross-Val Accuracy at 78th iteration: 66.0\n",
      "Cross-Val Accuracy at 79th iteration: 66.0\n",
      "Cross-Val Accuracy at 80th iteration: 66.0\n",
      "Cross-Val Accuracy at 81th iteration: 66.0\n",
      "Cross-Val Accuracy at 82th iteration: 66.0\n",
      "Cross-Val Accuracy at 83th iteration: 66.0\n",
      "Cross-Val Accuracy at 84th iteration: 66.0\n",
      "Cross-Val Accuracy at 85th iteration: 66.0\n",
      "Cross-Val Accuracy at 86th iteration: 66.0\n",
      "Cross-Val Accuracy at 87th iteration: 66.0\n",
      "Cross-Val Accuracy at 88th iteration: 66.0\n",
      "Cross-Val Accuracy at 89th iteration: 66.0\n",
      "Cross-Val Accuracy at 90th iteration: 66.0\n",
      "Cross-Val Accuracy at 91th iteration: 66.0\n",
      "Cross-Val Accuracy at 92th iteration: 66.0\n",
      "Cross-Val Accuracy at 93th iteration: 66.0\n",
      "Cross-Val Accuracy at 94th iteration: 66.0\n",
      "Cross-Val Accuracy at 95th iteration: 66.0\n",
      "Cross-Val Accuracy at 96th iteration: 66.0\n",
      "Cross-Val Accuracy at 97th iteration: 66.0\n",
      "Cross-Val Accuracy at 98th iteration: 66.0\n",
      "Cross-Val Accuracy at 99th iteration: 66.0\n",
      "Cross-Val Accuracy at 100th iteration: 66.0\n"
     ]
    }
   ],
   "source": [
    "#batch\n",
    "model2 = MLP_iris([4,3, 3])\n",
    "model2.train(X_train, y_train, 105)"
   ]
  },
  {
   "cell_type": "code",
   "execution_count": 32,
   "metadata": {},
   "outputs": [
    {
     "name": "stdout",
     "output_type": "stream",
     "text": [
      "[[ 9.  0.  0.]\n",
      " [ 0.  0. 15.]\n",
      " [ 0.  0. 21.]]\n"
     ]
    }
   ],
   "source": [
    "y_pred_train_1 = model2.predict(X_train.T)\n",
    "model2.confusion_matrix(y_train, y_pred_train_1)"
   ]
  },
  {
   "cell_type": "code",
   "execution_count": 33,
   "metadata": {},
   "outputs": [
    {
     "name": "stdout",
     "output_type": "stream",
     "text": [
      "[[41.  0.  0.]\n",
      " [ 0.  0. 35.]\n",
      " [ 0.  0. 29.]]\n"
     ]
    }
   ],
   "source": [
    "y_pred_test_1 = model2.predict(X_test)\n",
    "model2.confusion_matrix(y_test, y_pred_test_1)"
   ]
  },
  {
   "cell_type": "code",
   "execution_count": 34,
   "metadata": {},
   "outputs": [
    {
     "data": {
      "image/png": "[encoded data removed]",
      "text/plain": [
       "<Figure size 1440x648 with 1 Axes>"
      ]
     },
     "metadata": {},
     "output_type": "display_data"
    }
   ],
   "source": [
    "model2.error_iteration_curve()"
   ]
  },
  {
   "cell_type": "markdown",
   "metadata": {},
   "source": [
    "## Mini-Batch Learning"
   ]
  },
  {
   "cell_type": "code",
   "execution_count": 35,
   "metadata": {},
   "outputs": [
    {
     "name": "stdout",
     "output_type": "stream",
     "text": [
      "Cross-Val Accuracy at 1th iteration: 46.0\n",
      "Cross-Val Accuracy at 2th iteration: 46.0\n",
      "Cross-Val Accuracy at 3th iteration: 46.0\n",
      "Cross-Val Accuracy at 4th iteration: 46.0\n",
      "Cross-Val Accuracy at 5th iteration: 46.0\n",
      "Cross-Val Accuracy at 6th iteration: 46.0\n",
      "Cross-Val Accuracy at 7th iteration: 56.0\n",
      "Cross-Val Accuracy at 8th iteration: 66.0\n",
      "Cross-Val Accuracy at 9th iteration: 66.0\n",
      "Cross-Val Accuracy at 10th iteration: 66.0\n",
      "Cross-Val Accuracy at 11th iteration: 66.0\n",
      "Cross-Val Accuracy at 12th iteration: 66.0\n",
      "Cross-Val Accuracy at 13th iteration: 68.5\n",
      "Cross-Val Accuracy at 14th iteration: 66.0\n",
      "Cross-Val Accuracy at 15th iteration: 66.0\n",
      "Cross-Val Accuracy at 16th iteration: 66.0\n",
      "Cross-Val Accuracy at 17th iteration: 66.0\n",
      "Cross-Val Accuracy at 18th iteration: 70.0\n",
      "Cross-Val Accuracy at 19th iteration: 70.0\n",
      "Cross-Val Accuracy at 20th iteration: 72.5\n",
      "Cross-Val Accuracy at 21th iteration: 72.5\n",
      "Cross-Val Accuracy at 22th iteration: 79.5\n",
      "Cross-Val Accuracy at 23th iteration: 79.5\n",
      "Cross-Val Accuracy at 24th iteration: 84.0\n",
      "Cross-Val Accuracy at 25th iteration: 84.0\n",
      "Cross-Val Accuracy at 26th iteration: 86.0\n",
      "Cross-Val Accuracy at 27th iteration: 86.0\n",
      "Cross-Val Accuracy at 28th iteration: 88.5\n",
      "Cross-Val Accuracy at 29th iteration: 88.5\n",
      "Cross-Val Accuracy at 30th iteration: 88.5\n",
      "Cross-Val Accuracy at 31th iteration: 88.5\n",
      "Cross-Val Accuracy at 32th iteration: 88.5\n",
      "Cross-Val Accuracy at 33th iteration: 88.5\n",
      "Cross-Val Accuracy at 34th iteration: 88.5\n",
      "Cross-Val Accuracy at 35th iteration: 88.5\n",
      "Cross-Val Accuracy at 36th iteration: 88.5\n",
      "Cross-Val Accuracy at 37th iteration: 93.0\n",
      "Cross-Val Accuracy at 38th iteration: 93.0\n",
      "Cross-Val Accuracy at 39th iteration: 93.0\n",
      "Cross-Val Accuracy at 40th iteration: 93.0\n",
      "Cross-Val Accuracy at 41th iteration: 93.0\n",
      "Cross-Val Accuracy at 42th iteration: 95.5\n",
      "Cross-Val Accuracy at 43th iteration: 95.5\n",
      "Cross-Val Accuracy at 44th iteration: 95.5\n",
      "Cross-Val Accuracy at 45th iteration: 95.5\n",
      "Cross-Val Accuracy at 46th iteration: 95.5\n",
      "Cross-Val Accuracy at 47th iteration: 95.5\n",
      "Cross-Val Accuracy at 48th iteration: 95.5\n",
      "Cross-Val Accuracy at 49th iteration: 95.5\n",
      "Cross-Val Accuracy at 50th iteration: 97.5\n",
      "Cross-Val Accuracy at 51th iteration: 97.5\n",
      "Cross-Val Accuracy at 52th iteration: 97.5\n",
      "Cross-Val Accuracy at 53th iteration: 97.5\n",
      "Cross-Val Accuracy at 54th iteration: 97.5\n",
      "Cross-Val Accuracy at 55th iteration: 97.5\n",
      "Cross-Val Accuracy at 56th iteration: 97.5\n",
      "Cross-Val Accuracy at 57th iteration: 97.5\n",
      "Cross-Val Accuracy at 58th iteration: 97.5\n",
      "Cross-Val Accuracy at 59th iteration: 97.5\n",
      "Cross-Val Accuracy at 60th iteration: 97.5\n",
      "Cross-Val Accuracy at 61th iteration: 97.5\n",
      "Cross-Val Accuracy at 62th iteration: 97.5\n",
      "Cross-Val Accuracy at 63th iteration: 97.5\n",
      "Cross-Val Accuracy at 64th iteration: 97.5\n",
      "Cross-Val Accuracy at 65th iteration: 97.5\n",
      "Cross-Val Accuracy at 66th iteration: 97.5\n",
      "Cross-Val Accuracy at 67th iteration: 97.5\n",
      "Cross-Val Accuracy at 68th iteration: 97.5\n",
      "Cross-Val Accuracy at 69th iteration: 97.5\n",
      "Cross-Val Accuracy at 70th iteration: 97.5\n",
      "Cross-Val Accuracy at 71th iteration: 97.5\n",
      "Cross-Val Accuracy at 72th iteration: 97.5\n",
      "Cross-Val Accuracy at 73th iteration: 97.5\n",
      "Cross-Val Accuracy at 74th iteration: 97.5\n",
      "Cross-Val Accuracy at 75th iteration: 97.5\n",
      "Cross-Val Accuracy at 76th iteration: 97.5\n",
      "Cross-Val Accuracy at 77th iteration: 97.5\n",
      "Cross-Val Accuracy at 78th iteration: 97.5\n",
      "Cross-Val Accuracy at 79th iteration: 97.5\n",
      "Cross-Val Accuracy at 80th iteration: 97.5\n",
      "Cross-Val Accuracy at 81th iteration: 97.5\n",
      "Cross-Val Accuracy at 82th iteration: 97.5\n",
      "Cross-Val Accuracy at 83th iteration: 97.5\n",
      "Cross-Val Accuracy at 84th iteration: 97.5\n",
      "Cross-Val Accuracy at 85th iteration: 97.5\n",
      "Cross-Val Accuracy at 86th iteration: 97.5\n",
      "Cross-Val Accuracy at 87th iteration: 97.5\n",
      "Cross-Val Accuracy at 88th iteration: 97.5\n",
      "Cross-Val Accuracy at 89th iteration: 97.5\n",
      "Cross-Val Accuracy at 90th iteration: 97.5\n",
      "Cross-Val Accuracy at 91th iteration: 97.5\n",
      "Cross-Val Accuracy at 92th iteration: 97.5\n",
      "Cross-Val Accuracy at 93th iteration: 97.5\n",
      "Cross-Val Accuracy at 94th iteration: 97.5\n",
      "Cross-Val Accuracy at 95th iteration: 97.5\n",
      "Cross-Val Accuracy at 96th iteration: 97.5\n",
      "Cross-Val Accuracy at 97th iteration: 97.5\n",
      "Cross-Val Accuracy at 98th iteration: 97.5\n",
      "Cross-Val Accuracy at 99th iteration: 97.5\n",
      "Cross-Val Accuracy at 100th iteration: 97.5\n"
     ]
    }
   ],
   "source": [
    "#minibatch(batch_size = 5)\n",
    "model3 = MLP_iris([4, 4, 3])\n",
    "model3.train(X_train, y_train, 5)"
   ]
  },
  {
   "cell_type": "code",
   "execution_count": 36,
   "metadata": {},
   "outputs": [
    {
     "name": "stdout",
     "output_type": "stream",
     "text": [
      "[[ 9.  0.  0.]\n",
      " [ 0. 14.  1.]\n",
      " [ 0.  0. 21.]]\n"
     ]
    }
   ],
   "source": [
    "y_pred_train_1 = model3.predict(X_train.T)\n",
    "model3.confusion_matrix(y_train, y_pred_train_1)"
   ]
  },
  {
   "cell_type": "code",
   "execution_count": 37,
   "metadata": {},
   "outputs": [
    {
     "name": "stdout",
     "output_type": "stream",
     "text": [
      "[[41.  0.  0.]\n",
      " [ 0. 30.  5.]\n",
      " [ 0.  0. 29.]]\n"
     ]
    }
   ],
   "source": [
    "y_pred_test_1 = model3.predict(X_test)\n",
    "model3.confusion_matrix(y_test, y_pred_test_1)"
   ]
  },
  {
   "cell_type": "code",
   "execution_count": 38,
   "metadata": {},
   "outputs": [
    {
     "data": {
      "image/png": "[encoded data removed]",
      "text/plain": [
       "<Figure size 1440x648 with 1 Axes>"
      ]
     },
     "metadata": {},
     "output_type": "display_data"
    }
   ],
   "source": [
    "model3.error_iteration_curve()"
   ]
  },
  {
   "cell_type": "code",
   "execution_count": null,
   "metadata": {},
   "outputs": [],
   "source": []
  },
  {
   "cell_type": "code",
   "execution_count": null,
   "metadata": {},
   "outputs": [],
   "source": []
  }
 ],
 "metadata": {
  "kernelspec": {
   "display_name": "Python 3",
   "language": "python",
   "name": "python3"
  },
  "language_info": {
   "codemirror_mode": {
    "name": "ipython",
    "version": 3
   },
   "file_extension": ".py",
   "mimetype": "text/x-python",
   "name": "python",
   "nbconvert_exporter": "python",
   "pygments_lexer": "ipython3",
   "version": "3.7.6"
  }
 },
 "nbformat": 4,
 "nbformat_minor": 4
}
